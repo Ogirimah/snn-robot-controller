{
 "cells": [
  {
   "cell_type": "code",
   "execution_count": null,
   "id": "16a9dc09-9f19-4385-b40a-3a41c9a45024",
   "metadata": {},
   "outputs": [],
   "source": [
    "!pip install datasets"
   ]
  },
  {
   "cell_type": "code",
   "execution_count": null,
   "id": "a17bd211-ba60-49ff-a886-2a953c27961a",
   "metadata": {},
   "outputs": [],
   "source": [
    "from datasets import load_dataset\n",
    "\n",
    "ds = load_dataset(\"sergiopaniego/CarlaFollowLanePreviousV\")"
   ]
  },
  {
   "cell_type": "code",
   "execution_count": null,
   "id": "96e678f7-120b-4c63-98e5-060db81aeb79",
   "metadata": {},
   "outputs": [],
   "source": [
    "!pip install tf_keras"
   ]
  },
  {
   "cell_type": "code",
   "execution_count": null,
   "id": "56c02bc0-8cd8-4f50-82e9-bc8d6d02b105",
   "metadata": {},
   "outputs": [],
   "source": [
    "# Note: 'keras<3.x' or 'tf_keras' must be installed (legacy)\n",
    "# See https://github.com/keras-team/tf-keras for more details.\n",
    "from huggingface_hub import from_pretrained_keras\n",
    "\n",
    "model = from_pretrained_keras(\"sergiopaniego/OptimizedPilotNet\")\n"
   ]
  }
 ],
 "metadata": {
  "kernelspec": {
   "display_name": "Python 3 (ipykernel)",
   "language": "python",
   "name": "python3"
  },
  "language_info": {
   "codemirror_mode": {
    "name": "ipython",
    "version": 3
   },
   "file_extension": ".py",
   "mimetype": "text/x-python",
   "name": "python",
   "nbconvert_exporter": "python",
   "pygments_lexer": "ipython3",
   "version": "3.11.9"
  }
 },
 "nbformat": 4,
 "nbformat_minor": 5
}
