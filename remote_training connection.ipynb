{
 "cells": [
  {
   "cell_type": "markdown",
   "source": [
    "# Remote Training Connection"
   ],
   "metadata": {
    "collapsed": false
   },
   "id": "cf3bd42f176121c3"
  },
  {
   "cell_type": "markdown",
   "source": [
    "# Sender Side"
   ],
   "metadata": {
    "collapsed": false
   },
   "id": "7415bad0904e181d"
  },
  {
   "cell_type": "code",
   "execution_count": null,
   "id": "initial_id",
   "metadata": {
    "collapsed": true
   },
   "outputs": [],
   "source": [
    "import subprocess\n",
    "import socket\n",
    "\n",
    "def stream_subprocess_output_to_remote(command, remote_host, remote_port):\n",
    "    # Start the subprocess and redirect its output to a pipe\n",
    "    process = subprocess.Popen(command, stdout=subprocess.PIPE, stderr=subprocess.STDOUT, text=True, bufsize=1)\n",
    "\n",
    "    # Create a socket connection to the remote receiver\n",
    "    with socket.socket(socket.AF_INET, socket.SOCK_STREAM) as client_socket:\n",
    "        client_socket.connect((remote_host, remote_port))\n",
    "\n",
    "        # Read and send each line of output in real-time\n",
    "        for line in process.stdout:\n",
    "            client_socket.sendall(line.encode())  # Send the line to the remote receiver\n",
    "\n",
    "    # Wait for the subprocess to complete\n",
    "    process.wait()\n",
    "\n",
    "# Example usage: Replace 'your_script.py', 'remote_host', and 'remote_port' with actual values\n",
    "your_command = ['python', 'your_script.py']\n",
    "remote_host = 'example.com'  # Replace with the remote receiver's hostname or IP address\n",
    "remote_port = 12345  # Replace with the desired port number\n",
    "stream_subprocess_output_to_remote(your_command, remote_host, remote_port)\n"
   ]
  },
  {
   "cell_type": "markdown",
   "source": [
    "# Receiver Side"
   ],
   "metadata": {
    "collapsed": false
   },
   "id": "adbe92f9e73c81b6"
  },
  {
   "cell_type": "code",
   "outputs": [],
   "source": [
    "import socket\n",
    "\n",
    "def receive_data_from_sender(host, port):\n",
    "    with socket.socket(socket.AF_INET, socket.SOCK_STREAM) as server_socket:\n",
    "        server_socket.bind((host, port))\n",
    "        server_socket.listen()\n",
    "\n",
    "        print(f\"Listening on {host}:{port}\")\n",
    "\n",
    "        conn, addr = server_socket.accept()\n",
    "        print(f\"Connected by {addr}\")\n",
    "\n",
    "        while True:\n",
    "            data = conn.recv(1024)  # Adjust buffer size as needed\n",
    "            if not data:\n",
    "                break\n",
    "            # Process the received data (e.g., print it)\n",
    "            print(data.decode())\n",
    "\n",
    "if __name__ == \"__main__\":\n",
    "    receiver_host = \"0.0.0.0\"  # Listen on all available interfaces\n",
    "    receiver_port = 12345  # Choose an available port\n",
    "\n",
    "    receive_data_from_sender(receiver_host, receiver_port)\n"
   ],
   "metadata": {
    "collapsed": false
   },
   "id": "58072c1f9f75a4c4"
  }
 ],
 "metadata": {
  "kernelspec": {
   "display_name": "Python 3",
   "language": "python",
   "name": "python3"
  },
  "language_info": {
   "codemirror_mode": {
    "name": "ipython",
    "version": 2
   },
   "file_extension": ".py",
   "mimetype": "text/x-python",
   "name": "python",
   "nbconvert_exporter": "python",
   "pygments_lexer": "ipython2",
   "version": "2.7.6"
  }
 },
 "nbformat": 4,
 "nbformat_minor": 5
}
